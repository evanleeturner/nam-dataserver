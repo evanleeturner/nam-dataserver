{
 "cells": [
  {
   "cell_type": "code",
   "execution_count": null,
   "metadata": {},
   "outputs": [],
   "source": []
  },
  {
   "cell_type": "code",
   "execution_count": 15,
   "metadata": {},
   "outputs": [],
   "source": [
    "\n",
    "import xarray as xr\n",
    "import pandas as pd\n",
    "import urllib.request\n",
    "import lxml\n",
    "#!pip3 install lxml  Need to install this...\n",
    "\n",
    "    \n",
    "    \n",
    "#product for the 218 12k grid with 3hourly winds, taken from the main website here:\n",
    "#https://www.ncei.noaa.gov/products/weather-climate-models/north-american-mesoscale\n",
    "url_base = 'https://www.ncei.noaa.gov/data/north-american-mesoscale-model/access/forecast/'\n",
    "\n",
    "    \n",
    "html_buff = pd.read_html(url_base)  #download the base page for forecast months\n",
    "monthly_forecasts= html_buff[0]\n",
    "monthly_forecasts.dropna(how='all', inplace=True)\n",
    "our_month = monthly_forecasts.iloc[-1,0]  #grabs the very last forecast month..  eg. '202208/'\n",
    "#repeat procedure for latest forecast of the month...\n",
    "html_buff = pd.read_html(url_base+our_month)  #download the base page for forecast months\n",
    "daily_forecasts= html_buff[0]\n",
    "daily_forecasts.dropna(how='all', inplace=True)\n",
    "our_day = daily_forecasts.iloc[-1,0]  #grabs the very last forecast day..  eg. '20220806/'\n",
    "#repeat to find the last run hourly forecast in the list..\n",
    "html_buff = pd.read_html(url_base+our_month+our_day)  \n",
    "hourly_forecasts= html_buff[0]\n",
    "hourly_forecasts.dropna(how='all', inplace=True)\n",
    "last_file = hourly_forecasts.iloc[-1,0]\n",
    "file_prefix = last_file[:-13]  #boil down the last file name to just the file prefix, etc. 'nam_218_20220806_1800'"
   ]
  },
  {
   "cell_type": "code",
   "execution_count": 35,
   "metadata": {},
   "outputs": [
    {
     "data": {
      "text/plain": [
       "'nam_218_20220806_1800'"
      ]
     },
     "execution_count": 35,
     "metadata": {},
     "output_type": "execute_result"
    }
   ],
   "source": [
    "file_prefix"
   ]
  },
  {
   "cell_type": "code",
   "execution_count": 33,
   "metadata": {},
   "outputs": [],
   "source": [
    "last_file = hourly_forecasts.iloc[-1,0]\n",
    "file_prefix = last_file[:-13]"
   ]
  },
  {
   "cell_type": "code",
   "execution_count": null,
   "metadata": {
    "scrolled": true
   },
   "outputs": [],
   "source": [
    "numfiles = 85\n",
    "\n",
    "\n",
    "file_prefix = 'nam_218_20220723_0000_0'\n",
    "file_post = '.grb2'\n",
    "\n",
    "#download all of the grib files... this could take a while\n",
    "for i in range(numfiles):\n",
    "    urllib.request.urlretrieve(url+file_prefix+str(i).zfill(2)+file_post, filename=file_prefix+str(i).zfill(2)+file_post)\n",
    "    "
   ]
  },
  {
   "cell_type": "code",
   "execution_count": 37,
   "metadata": {},
   "outputs": [
    {
     "data": {
      "text/plain": [
       "'https://www.ncei.noaa.gov/data/north-american-mesoscale-model/access/forecast/202208/20220806/nam_218_20220806_1800_'"
      ]
     },
     "execution_count": 37,
     "metadata": {},
     "output_type": "execute_result"
    }
   ],
   "source": [
    "url_base+our_month+our_day+file_prefix+'_'"
   ]
  },
  {
   "cell_type": "code",
   "execution_count": null,
   "metadata": {},
   "outputs": [],
   "source": [
    "ds = xr.open_dataset(file_prefix+'002'.zfill(2)+file_post,engine='pynio')"
   ]
  },
  {
   "cell_type": "code",
   "execution_count": null,
   "metadata": {},
   "outputs": [],
   "source": [
    "!conda activate pyn_env"
   ]
  },
  {
   "cell_type": "code",
   "execution_count": null,
   "metadata": {},
   "outputs": [],
   "source": []
  }
 ],
 "metadata": {
  "kernelspec": {
   "display_name": "pyn_env",
   "language": "python",
   "name": "pyn_env"
  },
  "language_info": {
   "codemirror_mode": {
    "name": "ipython",
    "version": 3
   },
   "file_extension": ".py",
   "mimetype": "text/x-python",
   "name": "python",
   "nbconvert_exporter": "python",
   "pygments_lexer": "ipython3",
   "version": "3.10.5"
  }
 },
 "nbformat": 4,
 "nbformat_minor": 4
}
