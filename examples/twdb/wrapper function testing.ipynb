{
 "cells": [
  {
   "cell_type": "code",
   "execution_count": 48,
   "metadata": {},
   "outputs": [],
   "source": [
    "import pandas as pd\n",
    "import logging\n",
    "import os\n",
    "my_level = logging.DEBUG  #set to the level you want, eg. ERROR, WARNING, INFO, DEBUG\n",
    "logger = logging.getLogger()\n",
    "logging.basicConfig(level=my_level)\n",
    "logger.setLevel(my_level)  #have to set the level twice - I don't know why this is, but it just is!\n",
    "\n",
    "def csv2pandas(*args, **kwargs):\n",
    "    \"\"\"Wrapper that attempts to do a pandas read_csv() and passes all arguments.\n",
    "    Purpose of wrapper is to give detailed debugging to logging.\n",
    "    Check https://pandas.pydata.org/docs/reference/api/pandas.read_csv.html\n",
    "    for documentation on options for pd.read_csv()\n",
    "    \n",
    "    This function requires packages: pandas, os, logging\n",
    "\n",
    "        :return: pandas.DataFrame if connection was successful\n",
    "        :rtype: pandas.DataFrame\n",
    "    \"\"\"\n",
    "\n",
    "    if kwargs:\n",
    "        logging.debug(\"Open_Pandas_CSV(): Attempting to open filename {} with arguments {}\"\n",
    "                      .format(args[0],kwargs))\n",
    "    else:\n",
    "        logging.debug(\"Open_Pandas_CSV(): Attempting to open filename {} for reading\".format(args[0]))\n",
    "        \n",
    "    isfile = os.path.isfile(args[0])\n",
    "    if not isfile:\n",
    "        logging.error(\"Open_Pandas_CSV(): - CRITICAL - file {} was not found.  Our working directory is: {}\"\n",
    "                  .format(args[0], os.getcwd()))\n",
    "        return\n",
    "\n",
    "    try:\n",
    "        df = pd.read_csv(*args, **kwargs)\n",
    "        logging.debug(\"Openned {} for reading with {} entries\".format(args[0],len(df)))\n",
    "    except BaseException as e:\n",
    "        logging.error('The exception: {}'.format(e))\n",
    "        logging.error(\"CRITICAL: Pandas threw critical error trying to open {} \"\n",
    "                  .format(args[0]))\n",
    "        logging.error('The exception from pandas library was: {}'.format(e))\n",
    "        return\n",
    "\n",
    "    return df"
   ]
  },
  {
   "cell_type": "code",
   "execution_count": 49,
   "metadata": {},
   "outputs": [
    {
     "name": "stderr",
     "output_type": "stream",
     "text": [
      "DEBUG:root:Open_Pandas_CSV(): Attempting to open filename NAMwinds.latlist.csv3 with arguments {'header': 1}\n",
      "ERROR:root:Open_Pandas_CSV(): - CRITICAL - file NAMwinds.latlist.csv3 was not found.  Our working directory is: /home/eturner/nam-dataserver/examples/twdb\n"
     ]
    }
   ],
   "source": [
    "csv2pandas(\"NAMwinds.latlist.csv3\",header=1)"
   ]
  },
  {
   "cell_type": "code",
   "execution_count": null,
   "metadata": {},
   "outputs": [],
   "source": []
  }
 ],
 "metadata": {
  "kernelspec": {
   "display_name": "pyn_env",
   "language": "python",
   "name": "pyn_env"
  },
  "language_info": {
   "codemirror_mode": {
    "name": "ipython",
    "version": 3
   },
   "file_extension": ".py",
   "mimetype": "text/x-python",
   "name": "python",
   "nbconvert_exporter": "python",
   "pygments_lexer": "ipython3",
   "version": "3.10.5"
  }
 },
 "nbformat": 4,
 "nbformat_minor": 4
}
